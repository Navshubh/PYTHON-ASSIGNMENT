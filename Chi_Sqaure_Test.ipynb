{
  "nbformat": 4,
  "nbformat_minor": 0,
  "metadata": {
    "colab": {
      "provenance": []
    },
    "kernelspec": {
      "name": "python3",
      "display_name": "Python 3"
    },
    "language_info": {
      "name": "python"
    }
  },
  "cells": [
    {
      "cell_type": "code",
      "source": [
        "import numpy as np\n",
        "import pandas as pd\n",
        "from scipy.stats import chi2_contingency\n",
        "from scipy.stats import chi2 # Import the chi2 object\n",
        "\n",
        "# Step 1: State the Hypotheses\n",
        "# Null Hypothesis (H0): There is no association between device type and customer satisfaction level.\n",
        "# Alternative Hypothesis (H1): There is an association between device type and customer satisfaction level.\n",
        "\n",
        "# Step 2: Create the Contingency Table\n",
        "data = {\n",
        "    \"Very Satisfied\": [50, 70],\n",
        "    \"Satisfied\": [80, 100],\n",
        "    \"Neutral\": [60, 90],\n",
        "    \"Unsatisfied\": [30, 50],\n",
        "    \"Very Unsatisfied\": [20, 50]\n",
        "}\n",
        "\n",
        "contingency_table = pd.DataFrame(data, index=[\"Smart Thermostat\", \"Smart Light\"])\n",
        "print(\"Contingency Table:\")\n",
        "print(contingency_table)\n",
        "\n",
        "# Step 3: Compute the Chi-Square Statistic\n",
        "chi2_stat, p_value, dof, expected = chi2_contingency(contingency_table)\n",
        "print(f\"\\nChi-Square Statistic: {chi2_stat}\")\n",
        "print(f\"P-value: {p_value}\")\n",
        "print(f\"Degrees of Freedom: {dof}\")\n",
        "print(\"Expected Frequencies:\")\n",
        "print(expected)\n",
        "\n",
        "# Step 4: Determine the Critical Value\n",
        "alpha = 0.05\n",
        "critical_value = chi2.ppf(1 - alpha, dof) # Use the imported chi2 object\n",
        "print(f\"\\nCritical Value at alpha = {alpha}: {critical_value}\")\n",
        "\n",
        "# Step 5: Make a Decision\n",
        "if chi2_stat > critical_value:\n",
        "    decision = \"Reject the null hypothesis.\"\n",
        "else:\n",
        "    decision = \"Fail to reject the null hypothesis.\"\n",
        "\n",
        "# Conclusion\n",
        "print(\"\\nDecision:\")\n",
        "print(decision)\n",
        "\n",
        "if decision == \"Reject the null hypothesis.\":\n",
        "    conclusion = \"There is a significant association between device type and customer satisfaction level.\"\n",
        "else:\n",
        "    conclusion = \"There is no significant association between device type and customer satisfaction level.\"\n",
        "\n",
        "print(\"\\nConclusion:\")\n",
        "print(conclusion)"
      ],
      "metadata": {
        "colab": {
          "base_uri": "https://localhost:8080/"
        },
        "id": "bzV0MJL2_l1-",
        "outputId": "91b7b5d4-3eef-4d08-9ceb-ef42895ec9ae"
      },
      "execution_count": null,
      "outputs": [
        {
          "output_type": "stream",
          "name": "stdout",
          "text": [
            "Contingency Table:\n",
            "                  Very Satisfied  Satisfied  Neutral  Unsatisfied  \\\n",
            "Smart Thermostat              50         80       60           30   \n",
            "Smart Light                   70        100       90           50   \n",
            "\n",
            "                  Very Unsatisfied  \n",
            "Smart Thermostat                20  \n",
            "Smart Light                     50  \n",
            "\n",
            "Chi-Square Statistic: 5.638227513227513\n",
            "P-value: 0.22784371130697179\n",
            "Degrees of Freedom: 4\n",
            "Expected Frequencies:\n",
            "[[ 48.  72.  60.  32.  28.]\n",
            " [ 72. 108.  90.  48.  42.]]\n",
            "\n",
            "Critical Value at alpha = 0.05: 9.487729036781154\n",
            "\n",
            "Decision:\n",
            "Fail to reject the null hypothesis.\n",
            "\n",
            "Conclusion:\n",
            "There is no significant association between device type and customer satisfaction level.\n"
          ]
        }
      ]
    },
    {
      "cell_type": "markdown",
      "source": [
        "Explanation of Each Step:\n",
        "Hypotheses: We state the null and alternative hypotheses regarding the association between device type and customer satisfaction.\n",
        "\n",
        "Contingency Table: The data is organized into a contingency table for analysis.\n",
        "\n",
        "Chi-Square Statistic: We compute the Chi-Square statistic using the chi2_contingency function from scipy.stats, which also provides the p-value, degrees of freedom, and expected frequencies.\n",
        "\n",
        "Critical Value: We calculate the critical value using the Chi-Square distribution with the appropriate degrees of freedom.\n",
        "\n",
        "Decision: We compare the Chi-Square statistic with the critical value to decide whether to reject or fail to reject the null hypothesis and draw a conclusion based on that decision.\n",
        "\n",
        "Running the Code:\n",
        "To execute this script, ensure you have the required libraries (numpy, pandas, and scipy) installed in your Python environment. The output will include the contingency table, Chi-Square statistic, p-value, degrees of freedom, critical value, and the conclusion regarding the hypothesis test."
      ],
      "metadata": {
        "id": "p1ggqx0uAt8U"
      }
    }
  ]
}