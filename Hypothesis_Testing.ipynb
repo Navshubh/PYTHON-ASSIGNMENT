{
  "nbformat": 4,
  "nbformat_minor": 0,
  "metadata": {
    "colab": {
      "provenance": []
    },
    "kernelspec": {
      "name": "python3",
      "display_name": "Python 3"
    },
    "language_info": {
      "name": "python"
    }
  },
  "cells": [
    {
      "cell_type": "code",
      "execution_count": 1,
      "metadata": {
        "colab": {
          "base_uri": "https://localhost:8080/"
        },
        "id": "Jo8MRmHwENGE",
        "outputId": "c7dc3bc1-0ad3-46ac-c671-1e62e38d5279"
      },
      "outputs": [
        {
          "output_type": "stream",
          "name": "stdout",
          "text": [
            "Test Statistic (t): -38.0\n",
            "Critical Value at alpha = 0.05: 1.6448536269514722\n",
            "\n",
            "Decision:\n",
            "Fail to reject the null hypothesis.\n",
            "\n",
            "Conclusion:\n",
            "There is not enough evidence to support the restaurant owners' claim.\n"
          ]
        }
      ],
      "source": [
        "import numpy as np\n",
        "import scipy.stats as stats\n",
        "\n",
        "# Step 1: State the Hypotheses\n",
        "# Null Hypothesis (H0): The mean weekly cost is equal to the theoretical model cost.\n",
        "# Alternative Hypothesis (H1): The mean weekly cost is greater than the theoretical model cost.\n",
        "\n",
        "# Step 2: Calculate the Test Statistic\n",
        "# Given Data\n",
        "sample_mean = 3050  # ˉxˉ = sample mean weekly cost\n",
        "X = 600  # Mean number of units produced\n",
        "fixed_cost = 1000  # Fixed cost in the model\n",
        "variable_cost_per_unit = 5  # Variable cost per unit\n",
        "sample_size = 25  # n = sample size\n",
        "\n",
        "# Theoretical mean weekly cost according to the cost model\n",
        "theoretical_mean = fixed_cost + (variable_cost_per_unit * X)\n",
        "\n",
        "# Standard deviation calculation\n",
        "sigma = variable_cost_per_unit * 25  # σ = 5 * standard deviation of units produced\n",
        "\n",
        "# Calculate the test statistic (t)\n",
        "t_statistic = (sample_mean - theoretical_mean) / (sigma / np.sqrt(sample_size))\n",
        "print(f\"Test Statistic (t): {t_statistic}\")\n",
        "\n",
        "# Step 3: Determine the Critical Value\n",
        "alpha = 0.05\n",
        "critical_value = stats.norm.ppf(1 - alpha)  # For a one-tailed test\n",
        "print(f\"Critical Value at alpha = {alpha}: {critical_value}\")\n",
        "\n",
        "# Step 4: Make a Decision\n",
        "if t_statistic > critical_value:\n",
        "    decision = \"Reject the null hypothesis.\"\n",
        "else:\n",
        "    decision = \"Fail to reject the null hypothesis.\"\n",
        "\n",
        "# Step 5: Conclusion\n",
        "print(\"\\nDecision:\")\n",
        "print(decision)\n",
        "\n",
        "if decision == \"Reject the null hypothesis.\":\n",
        "    conclusion = \"There is strong evidence to support the restaurant owners' claim that the weekly operating costs are higher than the model suggests.\"\n",
        "else:\n",
        "    conclusion = \"There is not enough evidence to support the restaurant owners' claim.\"\n",
        "\n",
        "print(\"\\nConclusion:\")\n",
        "print(conclusion)\n"
      ]
    }
  ]
}