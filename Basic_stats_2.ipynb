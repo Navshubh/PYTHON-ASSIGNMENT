{
  "nbformat": 4,
  "nbformat_minor": 0,
  "metadata": {
    "colab": {
      "provenance": []
    },
    "kernelspec": {
      "name": "python3",
      "display_name": "Python 3"
    },
    "language_info": {
      "name": "python"
    }
  },
  "cells": [
    {
      "cell_type": "code",
      "execution_count": null,
      "metadata": {
        "id": "pbzbH5O-5nF9"
      },
      "outputs": [],
      "source": [
        "import numpy as np\n",
        "import scipy.stats as stats\n",
        "\n"
      ]
    },
    {
      "cell_type": "code",
      "source": [
        "# Sample data\n",
        "durability = [1.13, 1.55, 1.43, 0.92, 1.25, 1.36, 1.32, 0.85, 1.07, 1.48, 1.20, 1.33, 1.18, 1.22, 1.29]\n",
        "\n",
        "# Step 1: Calculate the sample mean\n",
        "sample_mean = np.mean(durability)\n",
        "\n",
        "# Step 2: Calculate the sample standard deviation\n",
        "sample_std = np.std(durability, ddof=1)  # ddof=1 for sample standard deviation\n",
        "\n",
        "# Step 3: Determine the sample size\n",
        "n = len(durability)\n",
        "\n",
        "# Step 4: Find the t-score for 99% confidence level\n",
        "confidence_level = 0.99\n",
        "alpha = 1 - confidence_level\n",
        "t_score = stats.t.ppf(1 - alpha / 2, n - 1)\n",
        "\n",
        "# Step 5: Calculate the margin of error\n",
        "margin_of_error = t_score * (sample_std / np.sqrt(n))\n",
        "\n",
        "# Step 6: Construct the confidence interval\n",
        "confidence_interval = (sample_mean - margin_of_error, sample_mean + margin_of_error)\n",
        "\n",
        "# Output results\n",
        "print(f\"Sample Mean: {sample_mean:.2f}\")\n",
        "print(f\"Sample Standard Deviation: {sample_std:.2f}\")\n",
        "print(f\"Margin of Error: {margin_of_error:.2f}\")\n",
        "print(f\"99% Confidence Interval: {confidence_interval[0]:.2f} to {confidence_interval[1]:.2f}\")\n"
      ],
      "metadata": {
        "colab": {
          "base_uri": "https://localhost:8080/"
        },
        "id": "bbJztSgU6LEB",
        "outputId": "fd0230aa-40a2-41a6-c3a5-990068395f9a"
      },
      "execution_count": null,
      "outputs": [
        {
          "output_type": "stream",
          "name": "stdout",
          "text": [
            "Sample Mean: 1.24\n",
            "Sample Standard Deviation: 0.19\n",
            "Margin of Error: 0.15\n",
            "99% Confidence Interval: 1.09 to 1.39\n"
          ]
        }
      ]
    },
    {
      "cell_type": "code",
      "source": [
        "import numpy as np\n",
        "import scipy.stats as stats\n",
        "\n",
        "# Sample data\n",
        "durability = [1.13, 1.55, 1.43, 0.92, 1.25, 1.36, 1.32, 0.85, 1.07, 1.48, 1.20, 1.33, 1.18, 1.22, 1.29]\n",
        "\n",
        "# Step 1: Calculate the sample mean\n",
        "sample_mean = np.mean(durability)\n",
        "\n",
        "# Step 2: Population standard deviation\n",
        "population_std = 0.2  # Given\n",
        "\n",
        "# Step 3: Determine the sample size\n",
        "n = len(durability)\n",
        "\n",
        "# Step 4: Find the z-score for 99% confidence level\n",
        "confidence_level = 0.99\n",
        "alpha = 1 - confidence_level\n",
        "z_score = stats.norm.ppf(1 - alpha / 2)\n",
        "\n",
        "# Step 5: Calculate the margin of error\n",
        "margin_of_error = z_score * (population_std / np.sqrt(n))\n",
        "\n",
        "# Step 6: Construct the confidence interval\n",
        "confidence_interval = (sample_mean - margin_of_error, sample_mean + margin_of_error)\n",
        "\n",
        "# Output results\n",
        "print(f\"Sample Mean: {sample_mean:.2f}\")\n",
        "print(f\"Population Standard Deviation: {population_std:.2f}\")\n",
        "print(f\"Margin of Error: {margin_of_error:.2f}\")\n",
        "print(f\"99% Confidence Interval: {confidence_interval[0]:.2f} to {confidence_interval[1]:.2f}\")\n"
      ],
      "metadata": {
        "colab": {
          "base_uri": "https://localhost:8080/"
        },
        "id": "rhWN4J8q65tD",
        "outputId": "acabb133-541f-4243-d239-24230405f8b5"
      },
      "execution_count": null,
      "outputs": [
        {
          "output_type": "stream",
          "name": "stdout",
          "text": [
            "Sample Mean: 1.24\n",
            "Population Standard Deviation: 0.20\n",
            "Margin of Error: 0.13\n",
            "99% Confidence Interval: 1.11 to 1.37\n"
          ]
        }
      ]
    }
  ]
}